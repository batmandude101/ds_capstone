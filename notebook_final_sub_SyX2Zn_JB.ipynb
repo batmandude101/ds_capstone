<!DOCTYPE html>
<html>
<body>
<div id="ticker"></div>
<script>

var authMethod = "Unknown";
if (authMethod != null && authMethod == "failover-password" ) {
    location.href = "/fcsso/fcsso";
} else if (location.pathname == "/" || location.pathname.search("/v1") == 0 || location.pathname.search("/ssoconfig") == 0) {
    location.href = "/idaas/mtfim/sps/idaas/login?login_type=local";
} else {
    var xhr = new XMLHttpRequest();
    xhr.open("GET", "/idaas/mtfim/sps/idaas/login/ibm_security_logout");
    xhr.onreadystatechange = function() {
        if (xhr.readyState == 4) {
            var script    = document.createElement("script");
            script.src    = "/idaas/mtfim/sps/ac/js/info.js";
            script.onload = function() {
                sendSession(0, function() {
                    var queryIndex = location.href.indexOf("?");
                    if (queryIndex == -1) {
                        location.href = "/idaas/mtfim/sps/idaas/login";
                    } else {
                        var query = location.href.substring(queryIndex + 1);
                        location.href = "/idaas/mtfim/sps/idaas/login?" + query;
                    }
                });
            };

            document.getElementsByTagName("head")[0].appendChild(script);
        }
    };

    xhr.send();

    setInterval(function() {
        var ticker = document.getElementById("ticker");
        ticker.innerHTML = ticker.innerHTML + ". ";
    }, 100);
}
</script>
</body>
</html>
